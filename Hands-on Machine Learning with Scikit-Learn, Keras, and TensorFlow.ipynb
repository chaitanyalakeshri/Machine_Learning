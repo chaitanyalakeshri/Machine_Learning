{
  "nbformat": 4,
  "nbformat_minor": 0,
  "metadata": {
    "colab": {
      "name": "Hands-on Machine Learning with Scikit-Learn, Keras, and TensorFlow.ipynb",
      "provenance": [],
      "authorship_tag": "ABX9TyMdSRSaC/w5+SKxqjHB612L",
      "include_colab_link": true
    },
    "kernelspec": {
      "name": "python3",
      "display_name": "Python 3"
    }
  },
  "cells": [
    {
      "cell_type": "markdown",
      "metadata": {
        "id": "view-in-github",
        "colab_type": "text"
      },
      "source": [
        "<a href=\"https://colab.research.google.com/github/chaitanyalakeshri/Machine_Learning/blob/main/Hands-on%20Machine%20Learning%20with%20Scikit-Learn%2C%20Keras%2C%20and%20TensorFlow.ipynb\" target=\"_parent\"><img src=\"https://colab.research.google.com/assets/colab-badge.svg\" alt=\"Open In Colab\"/></a>"
      ]
    },
    {
      "cell_type": "markdown",
      "metadata": {
        "id": "EFgOY0f4GMK8"
      },
      "source": [
        "**What is Machine Learning?**\n",
        "Programming computer so that they can learn from data\n",
        "\n",
        "**Types of machine Learning**\n",
        "1. Supervised Learning: Solution is provided with the input data so that ML (Machine Learning) model to learn from data, so the it can predict results when solution is not provided.\n",
        "e.g. : ML based spam filter is prvided with labels for emails as spam or ham, ML model learns from the input data and provided labels, so that it can predict \n",
        "\n",
        "2. Unsupervised learning : Input data is not labeled\n",
        "most common algorithms for unsupervised learning\n",
        "  a. Clustering- K-mean, DBSCAN, Hierarchical Cluster Analysis (HCA)\n",
        "  b. "
      ]
    },
    {
      "cell_type": "code",
      "metadata": {
        "id": "-HdlvbEgGJuH"
      },
      "source": [
        ""
      ],
      "execution_count": null,
      "outputs": []
    },
    {
      "cell_type": "markdown",
      "metadata": {
        "id": "iQQy-JUoGRha"
      },
      "source": [
        "Supervised Learning "
      ]
    }
  ]
}